{
 "cells": [
  {
   "cell_type": "code",
   "execution_count": null,
   "id": "b2f0eb4c-220b-4dbe-a0ef-02c7e7cd8bc4",
   "metadata": {},
   "outputs": [],
   "source": [
    "#Question 1"
   ]
  },
  {
   "cell_type": "code",
   "execution_count": null,
   "id": "40f5dd7c-1b38-485c-89d2-f3645fefc910",
   "metadata": {},
   "outputs": [],
   "source": [
    "A class is a blueprint of objects which is created and object is a instance of a class."
   ]
  },
  {
   "cell_type": "code",
   "execution_count": 3,
   "id": "301061ce-f5db-4517-81c8-5907d927e891",
   "metadata": {},
   "outputs": [],
   "source": [
    "class car :\n",
    "    def __init__(self,horse_power,torque,price,type_car):\n",
    "        self.horse_power = horse_power\n",
    "        self.torque = torque\n",
    "        self.price = price\n",
    "        self.type_car = type_car\n",
    "        \n",
    "    def car_details(self):\n",
    "        return self.horse_power,self.torque,self.price,self.type_car"
   ]
  },
  {
   "cell_type": "code",
   "execution_count": 8,
   "id": "f374d8af-becb-4fe3-aabe-ac3d714c1385",
   "metadata": {},
   "outputs": [],
   "source": [
    "Lamborghini_Aventador = car('760 Hp','412 Nm','6 crore','Sports')"
   ]
  },
  {
   "cell_type": "code",
   "execution_count": 10,
   "id": "33e94b84-0e71-4d6f-a22b-3c7a67907f31",
   "metadata": {},
   "outputs": [
    {
     "data": {
      "text/plain": [
       "('760 Hp', '412 Nm', '6 crore', 'Sports')"
      ]
     },
     "execution_count": 10,
     "metadata": {},
     "output_type": "execute_result"
    }
   ],
   "source": [
    "Lamborghini_Aventador.car_details()"
   ]
  },
  {
   "cell_type": "code",
   "execution_count": 11,
   "id": "a634aed4-125d-4cf7-abff-c68fbfa96d46",
   "metadata": {},
   "outputs": [],
   "source": [
    "#Question 2"
   ]
  },
  {
   "cell_type": "code",
   "execution_count": null,
   "id": "46562d78-ab18-4c4b-87b5-b6e66f803098",
   "metadata": {},
   "outputs": [],
   "source": [
    "1. Inheritance\n",
    "2. Polymorphism\n",
    "3. Encapsulation\n",
    "4. Abstraction"
   ]
  },
  {
   "cell_type": "code",
   "execution_count": 12,
   "id": "ce944f1b-87bb-4567-9852-90deeb422e79",
   "metadata": {},
   "outputs": [],
   "source": [
    "#Question 3"
   ]
  },
  {
   "cell_type": "code",
   "execution_count": null,
   "id": "636cf0bf-c7b3-4c20-b230-ef3b7f1d02c9",
   "metadata": {},
   "outputs": [],
   "source": [
    "To create a constructor for objects and initialize the objects attributes"
   ]
  },
  {
   "cell_type": "code",
   "execution_count": 16,
   "id": "c0eec3b2-fe70-4658-86b0-4e0ecfafb9eb",
   "metadata": {},
   "outputs": [],
   "source": [
    "class student :\n",
    "    def __init__(self,roll_number,marks_obtained):\n",
    "        self.roll_number = roll_number\n",
    "        self.marks_obtained = marks_obtained\n",
    "        \n",
    "    def student_details(self):\n",
    "        return self.roll_number,self.marks_obtained"
   ]
  },
  {
   "cell_type": "code",
   "execution_count": 18,
   "id": "7236a8c1-86aa-4951-a99d-2b43c00bc018",
   "metadata": {},
   "outputs": [],
   "source": [
    "shahil = student(1,450)\n",
    "rahul = student(2,480)"
   ]
  },
  {
   "cell_type": "code",
   "execution_count": 20,
   "id": "10c8ab89-35c6-4da6-9b8e-81e372a2f952",
   "metadata": {},
   "outputs": [
    {
     "data": {
      "text/plain": [
       "(1, 450)"
      ]
     },
     "execution_count": 20,
     "metadata": {},
     "output_type": "execute_result"
    }
   ],
   "source": [
    "shahil.student_details()"
   ]
  },
  {
   "cell_type": "code",
   "execution_count": 21,
   "id": "11122292-4684-4cb7-9fde-743af3eae4e5",
   "metadata": {},
   "outputs": [],
   "source": [
    "#Question 4"
   ]
  },
  {
   "cell_type": "code",
   "execution_count": null,
   "id": "fe3a7aed-0763-4d76-93d8-cccd3c39eeb0",
   "metadata": {},
   "outputs": [],
   "source": [
    "Self is a parameter which is used to access the variables within the class "
   ]
  },
  {
   "cell_type": "code",
   "execution_count": 22,
   "id": "90ea5dd1-03d9-408f-8a7d-20b610cc021e",
   "metadata": {},
   "outputs": [],
   "source": [
    "#Question 5"
   ]
  },
  {
   "cell_type": "code",
   "execution_count": null,
   "id": "d03d4c2e-97b6-4aa1-aa8d-57e594bad5ce",
   "metadata": {},
   "outputs": [],
   "source": [
    "Inheritance is a process of creating properties and characteristics of class.\n",
    "\n",
    "The type of inheritance are - \n",
    "1. Single\n",
    "2. Multiple\n",
    "3. Multilevel\n",
    "4. Hierarchical\n",
    "5. Hybrid"
   ]
  },
  {
   "cell_type": "code",
   "execution_count": null,
   "id": "907f5e05-3cc2-49df-bdcb-aa5eb00d0343",
   "metadata": {},
   "outputs": [],
   "source": []
  }
 ],
 "metadata": {
  "kernelspec": {
   "display_name": "Python 3 (ipykernel)",
   "language": "python",
   "name": "python3"
  },
  "language_info": {
   "codemirror_mode": {
    "name": "ipython",
    "version": 3
   },
   "file_extension": ".py",
   "mimetype": "text/x-python",
   "name": "python",
   "nbconvert_exporter": "python",
   "pygments_lexer": "ipython3",
   "version": "3.10.8"
  }
 },
 "nbformat": 4,
 "nbformat_minor": 5
}
